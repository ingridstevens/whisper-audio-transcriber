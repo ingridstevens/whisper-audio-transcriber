{
 "cells": [
  {
   "cell_type": "markdown",
   "metadata": {},
   "source": [
    "# Uncovering Insights in Audio \n",
    "\n",
    "We will use two approaches \n",
    "1. 'Trad' RAG aka Traditional Retreival Augmented Generation (complete with splitting, tokenizing, embedding, and using for similarity search)\n",
    "2. Prompt Stuffing (adding the entire transcript within the prompt and using the model to generate answers based on that)"
   ]
  },
  {
   "cell_type": "markdown",
   "metadata": {},
   "source": [
    "---"
   ]
  },
  {
   "cell_type": "markdown",
   "metadata": {},
   "source": [
    "## Setup: Transcription\n",
    "\n",
    "Since both approaches require having a transcription, we'll go ahead and do that first."
   ]
  },
  {
   "cell_type": "markdown",
   "metadata": {},
   "source": [
    "### Transcribe the Audio"
   ]
  },
  {
   "cell_type": "code",
   "execution_count": 58,
   "metadata": {},
   "outputs": [],
   "source": [
    "# Uses Whisper API from OpenAI to generate audio from text\n",
    "import whisper "
   ]
  },
  {
   "cell_type": "markdown",
   "metadata": {},
   "source": [
    "**Load the model**"
   ]
  },
  {
   "cell_type": "code",
   "execution_count": 59,
   "metadata": {},
   "outputs": [],
   "source": [
    "# Load the model from whisper (i have chosen to use the medium model, as it is more accurate than the base model)\n",
    "model = whisper.load_model(\"medium\")"
   ]
  },
  {
   "cell_type": "markdown",
   "metadata": {},
   "source": [
    "**Add your Audio File**"
   ]
  },
  {
   "cell_type": "code",
   "execution_count": 60,
   "metadata": {},
   "outputs": [],
   "source": [
    "audio = \"BryanThe_Ideal_Republic.ogg\""
   ]
  },
  {
   "cell_type": "markdown",
   "metadata": {},
   "source": [
    "**Transcribe the audio file**\n",
    "\n",
    "Note: this may take some time (about a minute)..."
   ]
  },
  {
   "cell_type": "code",
   "execution_count": 61,
   "metadata": {},
   "outputs": [
    {
     "name": "stdout",
     "output_type": "stream",
     "text": [
      " I can conceive of a national destiny which meets the responsibilities of today and measures up to the possibilities of tomorrow. Behold a republic resting securely upon the mountain of eternal truth. A republic applying in practice and proclaiming to the world the self-evident propositions that all men are created equal, that they are endowed with inalienable rights, that governments are instituted among men to secure these rights, and that governments derive their just powers from the consent of the governed. Behold a republic in which civil and religious liberty stimulate all to earnest endeavor, and in which the law restrains every hand uplifted for a neighbor's injury. A republic in which every citizen is a sovereign, but in which no one cares to wear a crown. Behold a republic standing erect while empires all around or bow beneath the weight of their own armaments. A republic whose flag is love while other flags are only fears. Behold a republic increasing in population, in wealth, in strength, and in influence, solving the problems of civilization and facing the coming of a universal brotherhood. A republic which shakes, throes, and dissolves aristocracies by its silent example and gives light and inspiration to those who sit in darkness. Behold a republic gradually but surely becoming a supreme moral factor in the world's progress and the accepted arbiter of the world's dispute. A republic whose history, like the path of the just, is as the shining light that shineth more and more unto the perfect day.\n"
     ]
    }
   ],
   "source": [
    "# Run the transcription and save it to \"result\"\n",
    "# Note: the original audio file is available on Wikipedia at this link: https://commons.wikimedia.org/wiki/File:A_J_Cook_Speech_from_Lansbury%27s_Labour_Weekly.ogg \n",
    "result = model.transcribe(audio, fp16=False)\n",
    "\n",
    "# Print the transcription\n",
    "print(result[\"text\"])"
   ]
  },
  {
   "cell_type": "markdown",
   "metadata": {},
   "source": [
    "----"
   ]
  },
  {
   "cell_type": "markdown",
   "metadata": {},
   "source": [
    "## Load in the Imports for the Entire Notebook"
   ]
  },
  {
   "cell_type": "code",
   "execution_count": 62,
   "metadata": {},
   "outputs": [],
   "source": [
    "from langchain.text_splitter import RecursiveCharacterTextSplitter\n",
    "from langchain.vectorstores import FAISS\n",
    "from langchain.embeddings import OllamaEmbeddings\n",
    "from langchain.chains.qa_with_sources import load_qa_with_sources_chain\n",
    "from langchain.chains import LLMChain\n",
    "from langchain.llms import Ollama"
   ]
  },
  {
   "cell_type": "markdown",
   "metadata": {},
   "source": [
    "---"
   ]
  },
  {
   "cell_type": "markdown",
   "metadata": {},
   "source": [
    "## Approach 1: Audio to RAG \n",
    "**Retreival Augmented Generation over audio files transcribed with Whisper API**\n",
    "\n",
    "Now that we've transcribed the audio using the Whisper API, we can use the transcript to create a RAG prompt.\n",
    "\n",
    "This section of the notebook leads you step-by-step through the process of:\n",
    "* Tokenizing the text using the LangChain `RecursiveCharacterTextSplitter`\n",
    "* Creating embeddings from the tokenized text using `Ollama Embeddings`\n",
    "* Performing a similary search between query and vectorstore `docsearch.similarity_search`\n",
    "* Creating an LangChain LLMChain which takes in context, query, and returns the answer, considering the context and query together"
   ]
  },
  {
   "cell_type": "markdown",
   "metadata": {},
   "source": [
    "### 1.1: Split, Tokenize & Embed the text \n",
    "Tokenizing and Embeddings are created to split the transcription into smaller chunks and create embeddings for each chunk. This allows us to search for similar chunks in the vectorstore. This is a crucial step in RAG (retreival augmented generation), as it allows us to find the most similar chunks to the query, and then generate text based on the context of the query and the most similar chunks.\n",
    "\n",
    "We use langchain to split the text with the RecursiveCharacterTextSplitter, which splits the text into smaller chunks recursively. We then create embeddings for each chunk using Ollama Embeddings. You can swap these individual components out for whatever text splitter or embeddings you'd prefer."
   ]
  },
  {
   "cell_type": "code",
   "execution_count": 125,
   "metadata": {},
   "outputs": [
    {
     "data": {
      "text/plain": [
       "\" I can conceive of a national destiny which meets the responsibilities of today and measures up to the possibilities of tomorrow. Behold a republic resting securely upon the mountain of eternal truth. A republic applying in practice and proclaiming to the world the self-evident propositions that all men are created equal, that they are endowed with inalienable rights, that governments are instituted among men to secure these rights, and that governments derive their just powers from the consent of the governed. Behold a republic in which civil and religious liberty stimulate all to earnest endeavor, and in which the law restrains every hand uplifted for a neighbor's injury. A republic in which every citizen is a sovereign, but in which no one cares to wear a crown. Behold a republic standing erect while empires all around or bow beneath the weight of their own armaments. A republic whose flag is love while other flags are only fears. Behold a republic increasing in population, in wealth, in strength, and in influence, solving the problems of civilization and facing the coming of a universal brotherhood. A republic which shakes, throes, and dissolves aristocracies by its silent example and gives light and inspiration to those who sit in darkness. Behold a republic gradually but surely becoming a supreme moral factor in the world's progress and the accepted arbiter of the world's dispute. A republic whose history, like the path of the just, is as the shining light that shineth more and more unto the perfect day.\""
      ]
     },
     "execution_count": 125,
     "metadata": {},
     "output_type": "execute_result"
    }
   ],
   "source": [
    "# Define the text to split\n",
    "transcription = result[\"text\"]\n",
    "\n",
    "# Display the text\n",
    "transcription"
   ]
  },
  {
   "cell_type": "markdown",
   "metadata": {},
   "source": [
    "**Split the text**\n",
    "\n",
    "Here, the text is split into chunks of 100 characters, with overlaps of 20 characters"
   ]
  },
  {
   "cell_type": "code",
   "execution_count": 64,
   "metadata": {},
   "outputs": [],
   "source": [
    "splitter = RecursiveCharacterTextSplitter(\n",
    "    chunk_size=100,\n",
    "    chunk_overlap=20,\n",
    ")\n",
    "\n",
    "texts = splitter.split_text(transcription)"
   ]
  },
  {
   "cell_type": "code",
   "execution_count": 65,
   "metadata": {},
   "outputs": [
    {
     "name": "stdout",
     "output_type": "stream",
     "text": [
      "['I can conceive of a national destiny which meets the responsibilities of today and measures up to', 'and measures up to the possibilities of tomorrow. Behold a republic resting securely upon the', 'securely upon the mountain of eternal truth. A republic applying in practice and proclaiming to the', 'proclaiming to the world the self-evident propositions that all men are created equal, that they', 'equal, that they are endowed with inalienable rights, that governments are instituted among men to', 'among men to secure these rights, and that governments derive their just powers from the consent of', 'from the consent of the governed. Behold a republic in which civil and religious liberty stimulate', 'liberty stimulate all to earnest endeavor, and in which the law restrains every hand uplifted for a', \"hand uplifted for a neighbor's injury. A republic in which every citizen is a sovereign, but in\", 'a sovereign, but in which no one cares to wear a crown. Behold a republic standing erect while', 'erect while empires all around or bow beneath the weight of their own armaments. A republic whose', 'A republic whose flag is love while other flags are only fears. Behold a republic increasing in', 'increasing in population, in wealth, in strength, and in influence, solving the problems of', 'the problems of civilization and facing the coming of a universal brotherhood. A republic which', 'A republic which shakes, throes, and dissolves aristocracies by its silent example and gives light', 'and gives light and inspiration to those who sit in darkness. Behold a republic gradually but', \"gradually but surely becoming a supreme moral factor in the world's progress and the accepted\", \"and the accepted arbiter of the world's dispute. A republic whose history, like the path of the\", 'the path of the just, is as the shining light that shineth more and more unto the perfect day.']\n",
      "\n",
      "The length of the texts is 19\n"
     ]
    }
   ],
   "source": [
    "# Let's take a look at the texts, notice how there is a bit of overlap between them\n",
    "print(texts)\n",
    "\n",
    "# So that we know how many texts we have:\n",
    "print(f\"\\nThe length of the texts is {len(texts)}\")"
   ]
  },
  {
   "cell_type": "markdown",
   "metadata": {},
   "source": [
    "**Create the Embeddings**"
   ]
  },
  {
   "cell_type": "code",
   "execution_count": 66,
   "metadata": {},
   "outputs": [],
   "source": [
    "# define the embeddings \n",
    "\n",
    "embeddings = OllamaEmbeddings()"
   ]
  },
  {
   "cell_type": "markdown",
   "metadata": {},
   "source": [
    "**Add Text to the Vectorstore**\n",
    "\n",
    "Here, I use FAISS as the vectorstore. Faiss is a library for efficient similarity search and clustering of dense vectors. You can also use alternatives like Pinecone, Qdrant, or Chroma."
   ]
  },
  {
   "cell_type": "code",
   "execution_count": 81,
   "metadata": {},
   "outputs": [],
   "source": [
    "# Create the vector store using the texts and embeddings and put it in a vector database\n",
    "\n",
    "docsearch = FAISS.from_texts(texts, embeddings, metadatas=[{\"file\": audio,\"source\": str(i)} for i in range(len(texts))])"
   ]
  },
  {
   "cell_type": "markdown",
   "metadata": {},
   "source": [
    "**Set the LLM Model & Prompt our LLM using Context from the Chroma Vectorstore**"
   ]
  },
  {
   "cell_type": "code",
   "execution_count": 82,
   "metadata": {},
   "outputs": [],
   "source": [
    "# Define the local LLM Model we will use\n",
    "llm = Ollama(model='llama2', temperature=0)"
   ]
  },
  {
   "cell_type": "markdown",
   "metadata": {},
   "source": [
    "**Create the Prompt**\n",
    "\n",
    "We'll use a QA chain (this is a chain for performing question-answering tasks with a retrieval component) - since we'd like to ask questions and get answers and continue asking questions."
   ]
  },
  {
   "cell_type": "code",
   "execution_count": 86,
   "metadata": {},
   "outputs": [],
   "source": [
    "#import chatprompttemplate \n",
    "from langchain.prompts import PromptTemplate\n",
    "from langchain.prompts.chat import (\n",
    "    ChatPromptTemplate,\n",
    "    SystemMessagePromptTemplate,\n",
    "    AIMessagePromptTemplate,\n",
    "    HumanMessagePromptTemplate,\n",
    ")"
   ]
  },
  {
   "cell_type": "code",
   "execution_count": 87,
   "metadata": {},
   "outputs": [],
   "source": [
    "# Create the RAG prompt\n",
    "rag_prompt = ChatPromptTemplate(\n",
    "    input_variables=['context', 'question'], \n",
    "    messages=[\n",
    "        HumanMessagePromptTemplate(\n",
    "            prompt=PromptTemplate(\n",
    "                input_variables=['context', 'question'], \n",
    "                template=\"\"\"You answer questions about the contents of a transcribed audio file. \n",
    "                Use only the provided audio file transcription as context to answer the question. \n",
    "                Do not use any additional information.\n",
    "                If you don't know the answer, just say that you don't know. Do not use external knowledge. \n",
    "                Use three sentences maximum and keep the answer concise. \n",
    "                Make sure to reference your sources with quotes of the provided context as citations.\n",
    "                \\nQuestion: {question} \\nContext: {context} \\nAnswer:\"\"\"\n",
    "                )\n",
    "        )\n",
    "    ]\n",
    ")"
   ]
  },
  {
   "cell_type": "code",
   "execution_count": 88,
   "metadata": {},
   "outputs": [],
   "source": [
    "from langchain.chains.question_answering import load_qa_chain\n",
    "\n",
    "# Chain\n",
    "chain = load_qa_chain(llm, chain_type=\"stuff\", prompt=rag_prompt)"
   ]
  },
  {
   "cell_type": "markdown",
   "metadata": {},
   "source": [
    "### 1.2: Create a \"trad rag\" aka. Traditional Prompt\n",
    "\n",
    "This traditional prompt means we take the query and get the top n most similar chunks from the vectorstore, and then use those chunks as the context for the LLM model. This is the traditional way of doing RAG, and is the most common way of doing RAG."
   ]
  },
  {
   "cell_type": "markdown",
   "metadata": {},
   "source": [
    "**Set a Query**"
   ]
  },
  {
   "cell_type": "code",
   "execution_count": 89,
   "metadata": {},
   "outputs": [],
   "source": [
    "# Define a query\n",
    "query = \"What is the idea of the republic?\""
   ]
  },
  {
   "cell_type": "code",
   "execution_count": 138,
   "metadata": {},
   "outputs": [],
   "source": [
    "# Find similar documents to the search query \n",
    "docs = docsearch.similarity_search(query)"
   ]
  },
  {
   "cell_type": "code",
   "execution_count": 119,
   "metadata": {},
   "outputs": [
    {
     "data": {
      "text/plain": [
       "[Document(page_content='among men to secure these rights, and that governments derive their just powers from the consent of', metadata={'file': 'BryanThe_Ideal_Republic.ogg', 'source': '5'}),\n",
       " Document(page_content='proclaiming to the world the self-evident propositions that all men are created equal, that they', metadata={'file': 'BryanThe_Ideal_Republic.ogg', 'source': '3'}),\n",
       " Document(page_content='I can conceive of a national destiny which meets the responsibilities of today and measures up to', metadata={'file': 'BryanThe_Ideal_Republic.ogg', 'source': '0'}),\n",
       " Document(page_content='increasing in population, in wealth, in strength, and in influence, solving the problems of', metadata={'file': 'BryanThe_Ideal_Republic.ogg', 'source': '12'})]"
      ]
     },
     "execution_count": 119,
     "metadata": {},
     "output_type": "execute_result"
    }
   ],
   "source": [
    "# Display the docs determined to be semantically similar to the query\n",
    "docs"
   ]
  },
  {
   "cell_type": "markdown",
   "metadata": {},
   "source": [
    "### 1.3: Generate a response using \"Trad RAG\""
   ]
  },
  {
   "cell_type": "code",
   "execution_count": 145,
   "metadata": {},
   "outputs": [
    {
     "name": "stdout",
     "output_type": "stream",
     "text": [
      " Based on the provided context, the idea of the republic appears to be a political philosophy that emphasizes the importance of consent and self-evident propositions. According to the transcription, Thomas Bryan believes that governments derive their just powers from the consent of the governed, and that all men are created equal (Source: 3). Additionally, Bryan envisions a national destiny in which the United States solves problems of population growth, wealth, strength, and influence through the principles of democracy (Source: 12). However, I do not know the specific details of Bryan's idea of the republic without further context.\n"
     ]
    }
   ],
   "source": [
    "# Basic Stuff Rag prompt (manually created)\n",
    "\n",
    "trad_rag_template = \"\"\"You answer questions about the contents of a transcribed audio file. \n",
    "                Use only the provided audio file transcription as context to answer the question. \n",
    "                Do not use any additional information.\n",
    "                If you don't know the answer, just say that you don't know. Do not use external knowledge. \n",
    "                Use three sentences maximum and keep the answer concise. \n",
    "                Make sure to cite references by referencing quotes of the provided context. Do not use any other knowledge.\n",
    "\n",
    "                \\nQuestion: {question} \\nContext: {context} \\nAnswer:\"\"\"\n",
    "\n",
    "trad_prompt = PromptTemplate.from_template(trad_rag_template)\n",
    "\n",
    "query = \"What is the idea of the republic?\"\n",
    "\n",
    "trad_rag_prompt = trad_prompt.format(context=docs, question=query)\n",
    "\n",
    "trad_answer = llm(trad_rag_prompt)\n",
    "\n",
    "print(trad_answer)"
   ]
  },
  {
   "cell_type": "markdown",
   "metadata": {},
   "source": [
    "**Generate a Response Using a Chain Completion Request**"
   ]
  },
  {
   "cell_type": "code",
   "execution_count": 92,
   "metadata": {},
   "outputs": [],
   "source": [
    "# Set a response variable to the output of the chain\n",
    "response = chain({\"input_documents\": docs, \"question\": query}, return_only_outputs=True)"
   ]
  },
  {
   "cell_type": "markdown",
   "metadata": {},
   "source": [
    "**Display the response**"
   ]
  },
  {
   "cell_type": "code",
   "execution_count": 150,
   "metadata": {},
   "outputs": [
    {
     "name": "stdout",
     "output_type": "stream",
     "text": [
      " According to the transcribed audio file, the idea of the republic is to secure certain rights for individuals by deriving power from the consent of the governed. The speaker proclaims that all men are created equal and that governments have a responsibility to measure up to their responsibilities in terms of population, wealth, strength, and influence. However, I cannot provide a more detailed answer without additional context or information.\n",
      "\n",
      "Sources:\n",
      "\n",
      "* \"Among men to secure these rights, and that governments derive their just powers from the consent of the governed.\" (lined 3-4)\n",
      "* \"Propositions that all men are created equal, that they are endowed with certain unalienable Rights, that among these are Life, Liberty, and the pursuit of Happiness.\" (lined 6-8)\n"
     ]
    }
   ],
   "source": [
    "print(response[\"output_text\"])\n",
    "\n",
    "answer_trad = response[\"output_text\"]"
   ]
  },
  {
   "cell_type": "markdown",
   "metadata": {},
   "source": [
    "### 1.4: Evaluate the Traditional Response"
   ]
  },
  {
   "cell_type": "code",
   "execution_count": 152,
   "metadata": {},
   "outputs": [
    {
     "name": "stdout",
     "output_type": "stream",
     "text": [
      " Based on the provided context, I would rate the answer as a 6/10.\n",
      "\n",
      "6/10 - The answer provides some relevant information related to the idea of the republic, specifically citing the Declaration of Independence and emphasizing the importance of consent of the governed. However, the answer is quite broad and lacks specific details or examples to support its claims, leaving it feeling somewhat superficial. To receive a higher score, additional context or information could be provided to flesh out the answer and make it more informative.\n"
     ]
    }
   ],
   "source": [
    "from langchain.prompts import PromptTemplate\n",
    "\n",
    "evaluation_template = \"\"\"\n",
    "    Rate the answer: \" {answer_trad} \" to the question \"{question} \" given only the context provided by an audio file: \"{context}\". \n",
    "    The Rating should be between 1 (lowest score) and 10 (highest score), and contain a max-1 sentence explanation of the rating.\n",
    "    The rating should be based on the quality of the answer considering that the answer was ONLY based on the context, and nothing else.\n",
    "    Format the answer as starting with the rating, followed by a newline, followed by the explanation.\n",
    "    \"x/10 \n",
    "    The question asked about xxx, and the context provided xxxx, and the answer was .... .\n",
    "    In order to receive a full score, the answer should be ....\" \"\"\"\n",
    "\n",
    "prompt = PromptTemplate.from_template(evaluation_template)\n",
    "\n",
    "my_prompt = prompt.format(answer_trad=answer_trad, context=docs, question=query)\n",
    "\n",
    "print(llm(my_prompt))\n"
   ]
  },
  {
   "cell_type": "markdown",
   "metadata": {},
   "source": [
    "---"
   ]
  },
  {
   "cell_type": "markdown",
   "metadata": {},
   "source": [
    "## Alternative Approach: Abandoning 'Trad' RAG\n",
    "\n",
    "#### Skip the Embeddings & Vectorstore and Place Entire Transcription into LLM Completion Request"
   ]
  },
  {
   "cell_type": "markdown",
   "metadata": {},
   "source": [
    "For this test, I will dismiss the standard RAG approach with it's embeddings and vectorstore, and instead place the entire transcription into the LLM Completion Request. This will allow us to see how the LLM performs without the vectorstore and embeddings.\n",
    "\n",
    "Note, this approach will not work for all use cases, as often transcriptions can be very long. However, considering that we have a short one to play with, it should be enough for some initial tests."
   ]
  },
  {
   "cell_type": "markdown",
   "metadata": {},
   "source": [
    "### 2.1: Create a Single Document Document which contains the entire transcription"
   ]
  },
  {
   "cell_type": "code",
   "execution_count": 140,
   "metadata": {},
   "outputs": [],
   "source": [
    "from langchain.docstore.document import Document\n",
    "\n",
    "transcript_doc=Document(\n",
    "                page_content=transcription,\n",
    "                metadata={\"source\": audio}\n",
    "            )\n"
   ]
  },
  {
   "cell_type": "markdown",
   "metadata": {},
   "source": [
    "### 2.2: Create a Prompt which contains the entire transcription"
   ]
  },
  {
   "cell_type": "code",
   "execution_count": 153,
   "metadata": {},
   "outputs": [
    {
     "name": "stdout",
     "output_type": "stream",
     "text": [
      " Based on the provided audio transcription, the idea of the republic is to create a government that is based on the principles of equality, justice, and the rights of citizens. The speaker mentions that a republic should be grounded in eternal truth and apply the self-evident propositions that all men are created equal and have inalienable rights. Additionally, the republic should provide an environment where civil and religious liberty stimulate people to work hard and the law protects citizens from harm. The speaker also emphasizes that every citizen is a sovereign, but no one desires to wear a crown. Furthermore, the republic should be a moral factor in the world's progress and an accepted arbiter of global disputes. (Bryan, 1896)\n"
     ]
    }
   ],
   "source": [
    "# Basic Stuff Rag prompt (manually created)\n",
    "\n",
    "alt_rag_template = \"\"\"You answer questions about the contents of a transcribed audio file. \n",
    "                Use only the provided audio file transcription as context to answer the question. \n",
    "                Do not use any additional information.\n",
    "                If you don't know the answer, just say that you don't know. Do not use external knowledge. \n",
    "                Use three sentences maximum and keep the answer concise. \n",
    "                Make sure to cite references by referencing quotes of the provided context. Do not use any other knowledge.\n",
    "                \n",
    "                \\nQuestion: {question} \\nContext: {context} \\nAnswer:\"\"\"\n",
    "\n",
    "alt_prompt = PromptTemplate.from_template(alt_rag_template)\n",
    "\n",
    "query = \"What is the idea of the republic?\"\n",
    "\n",
    "alt_rag_prompt = alt_prompt.format(context=transcript_doc, question=query)\n",
    "\n",
    "answer_alt = llm(alt_rag_prompt)\n",
    "\n",
    "print(answer_alt)"
   ]
  },
  {
   "cell_type": "markdown",
   "metadata": {},
   "source": [
    "### 2.3: Evaluate the Alternative Response"
   ]
  },
  {
   "cell_type": "code",
   "execution_count": 154,
   "metadata": {},
   "outputs": [
    {
     "name": "stdout",
     "output_type": "stream",
     "text": [
      " Based on the provided audio transcription, I would rate the answer as an 8 out of 10. The speaker provides a clear and concise explanation of the idea of a republic, highlighting its foundational principles of equality, justice, and individual rights. The speaker also emphasizes the importance of civil and religious liberty, as well as the sovereignty of every citizen. However, the answer is limited to the context provided in the audio file, and does not provide any additional insights or analysis beyond what is explicitly stated in the transcription.\n",
      "\n",
      "In order to receive a full score, the answer could be expanded to provide more detailed explanations of the principles of a republic, as well as examples of how these principles have been applied in practice. Additionally, the answer could be further nuanced by considering alternative perspectives or counterarguments related to the idea of a republic.\n"
     ]
    }
   ],
   "source": [
    "\n",
    "evaluation_template = \"\"\"\n",
    "    Rate the answer: \" {answer_alt} \" to the question \"{question} \" given only the context provided by an audio file: \"{context}\". \n",
    "    The Rating should be between 1 (lowest score) and 10 (highest score), and contain a max-1 sentence explanation of the rating.\n",
    "    The rating should be based on the quality of the answer considering that the answer was ONLY based on the context, and nothing else.\n",
    "    Format the answer as starting with the rating, followed by a newline, followed by the explanation.\n",
    "    \"x/10 \n",
    "    The question asked about xxx, and the context provided xxxx, and the answer was .... .\n",
    "    In order to receive a full score, the answer should be ....\" \"\"\"\n",
    "\n",
    "prompt = PromptTemplate.from_template(evaluation_template)\n",
    "\n",
    "my_prompt = prompt.format(answer_alt=answer_alt, context=transcript_doc, question=query)\n",
    "\n",
    "print(llm(my_prompt))"
   ]
  },
  {
   "cell_type": "markdown",
   "metadata": {},
   "source": [
    "---"
   ]
  },
  {
   "cell_type": "markdown",
   "metadata": {},
   "source": [
    "# Traditional RAG vs. Alternative RAG: Compare the Answers to Each Other"
   ]
  },
  {
   "cell_type": "code",
   "execution_count": 158,
   "metadata": {},
   "outputs": [
    {
     "name": "stdout",
     "output_type": "stream",
     "text": [
      " I believe that Answer \"Alt\" provides a more comprehensive and detailed understanding of the idea of the republic compared to Answer \"Trad\". While Answer \"Trad\" merely states the basic principle of deriving power from the consent of the governed, Answer \"Alt\" expands on this idea by highlighting the importance of equality, justice, and the rights of citizens in a republic. It also provides additional context from Bryan's (1896) work, which further supports the concept of a republic based on eternal truth and the principles of equality and justice. Therefore, I believe that Answer \"Alt\" offers a more well-rounded and thoughtful explanation of the idea of the republic.\n"
     ]
    }
   ],
   "source": [
    "\n",
    "compare_answers_evaluation_template = \"\"\"\n",
    "    Compare the following two answers: \n",
    "    Answer \"Trad\": \"{answer_trad}\" \n",
    "    Answer \"Alt\": \"{answer_alt}\"\n",
    "    which were provide in response to the question: {question}.\n",
    "    \n",
    "    Start by saying which answer you think is better, and then explain why you think so.\n",
    "    Explain the reasoning of your comparison in a max-1 sentence explanation.\n",
    "    \"\"\"\n",
    "\n",
    "compare_prompt = PromptTemplate.from_template(compare_answers_evaluation_template)\n",
    "\n",
    "my_prompt = compare_prompt.format(answer_trad=answer_trad, answer_alt=answer_alt, question=query)\n",
    "\n",
    "print(llm(my_prompt))"
   ]
  },
  {
   "cell_type": "markdown",
   "metadata": {},
   "source": [
    "## Conclusion"
   ]
  },
  {
   "cell_type": "markdown",
   "metadata": {},
   "source": [
    "My conclusion is that the alternative RAG approach is better than the traditional RAG, as it is able to generate more coherent answers. This is likely because the traditional RAG approach is limited by the vectorstore and embeddings, which are not able to capture the context of the query as well as the alternative approach, which uses the entire transcription as the context."
   ]
  },
  {
   "cell_type": "code",
   "execution_count": null,
   "metadata": {},
   "outputs": [],
   "source": []
  }
 ],
 "metadata": {
  "kernelspec": {
   "display_name": "Python 3",
   "language": "python",
   "name": "python3"
  },
  "language_info": {
   "codemirror_mode": {
    "name": "ipython",
    "version": 3
   },
   "file_extension": ".py",
   "mimetype": "text/x-python",
   "name": "python",
   "nbconvert_exporter": "python",
   "pygments_lexer": "ipython3",
   "version": "3.10.1"
  }
 },
 "nbformat": 4,
 "nbformat_minor": 2
}
