{
 "cells": [
  {
   "cell_type": "markdown",
   "metadata": {},
   "source": [
    "# Uncovering Insights in Audio \n",
    "\n",
    "We will use two approaches \n",
    "1. 'Trad' RAG aka Traditional Retreival Augmented Generation (complete with splitting, tokenizing, embedding, and using for similarity search)\n",
    "2. Prompt Stuffing (adding the entire transcript within the prompt and using the model to generate answers based on that)"
   ]
  },
  {
   "cell_type": "markdown",
   "metadata": {},
   "source": [
    "---"
   ]
  },
  {
   "cell_type": "markdown",
   "metadata": {},
   "source": [
    "## Setup: Transcription\n",
    "\n",
    "Since both approaches require having a transcription, we'll go ahead and do that first."
   ]
  },
  {
   "cell_type": "markdown",
   "metadata": {},
   "source": [
    "### Transcribe the Audio"
   ]
  },
  {
   "cell_type": "code",
   "execution_count": 3,
   "metadata": {},
   "outputs": [],
   "source": [
    "# Uses Whisper API from OpenAI to generate audio from text\n",
    "import whisper "
   ]
  },
  {
   "cell_type": "markdown",
   "metadata": {},
   "source": [
    "**Load the model**"
   ]
  },
  {
   "cell_type": "code",
   "execution_count": 4,
   "metadata": {},
   "outputs": [],
   "source": [
    "# Load the model from whisper (i have chosen to use the medium model, as it is more accurate than the base model)\n",
    "model = whisper.load_model(\"medium\")"
   ]
  },
  {
   "cell_type": "markdown",
   "metadata": {},
   "source": [
    "**Add your Audio File**"
   ]
  },
  {
   "cell_type": "code",
   "execution_count": 5,
   "metadata": {},
   "outputs": [],
   "source": [
    "audio = \"BryanThe_Ideal_Republic.ogg\""
   ]
  },
  {
   "cell_type": "markdown",
   "metadata": {},
   "source": [
    "**Transcribe the audio file**\n",
    "\n",
    "Note: this may take some time (about a minute)..."
   ]
  },
  {
   "cell_type": "code",
   "execution_count": 6,
   "metadata": {},
   "outputs": [
    {
     "name": "stdout",
     "output_type": "stream",
     "text": [
      " I can conceive of a national destiny which meets the responsibilities of today and measures up to the possibilities of tomorrow. Behold a republic resting securely upon the mountain of eternal truth. A republic applying in practice and proclaiming to the world the self-evident propositions that all men are created equal, that they are endowed with inalienable rights, that governments are instituted among men to secure these rights, and that governments derive their just powers from the consent of the governed. Behold a republic in which civil and religious liberty stimulate all to earnest endeavor, and in which the law restrains every hand uplifted for a neighbor's injury. A republic in which every citizen is a sovereign, but in which no one cares to wear a crown. Behold a republic standing erect while empires all around or bow beneath the weight of their own armaments. A republic whose flag is love while other flags are only fears. Behold a republic increasing in population, in wealth, in strength, and in influence, solving the problems of civilization and facing the coming of a universal brotherhood. A republic which shakes, throes, and dissolves aristocracies by its silent example and gives light and inspiration to those who sit in darkness. Behold a republic gradually but surely becoming a supreme moral factor in the world's progress and the accepted arbiter of the world's dispute. A republic whose history, like the path of the just, is as the shining light that shineth more and more unto the perfect day.\n"
     ]
    }
   ],
   "source": [
    "# Run the transcription and save it to \"result\"\n",
    "# Note: the original audio file is available on Wikipedia at this link: https://commons.wikimedia.org/wiki/File:A_J_Cook_Speech_from_Lansbury%27s_Labour_Weekly.ogg \n",
    "result = model.transcribe(audio, fp16=False)\n",
    "\n",
    "# Print the transcription\n",
    "print(result[\"text\"])"
   ]
  },
  {
   "cell_type": "markdown",
   "metadata": {},
   "source": [
    "----"
   ]
  },
  {
   "cell_type": "markdown",
   "metadata": {},
   "source": [
    "## Load in the Imports for the Entire Notebook"
   ]
  },
  {
   "cell_type": "code",
   "execution_count": 7,
   "metadata": {},
   "outputs": [],
   "source": [
    "from langchain.text_splitter import RecursiveCharacterTextSplitter\n",
    "from langchain.vectorstores import FAISS\n",
    "from langchain.embeddings import OllamaEmbeddings\n",
    "from langchain.chains.qa_with_sources import load_qa_with_sources_chain\n",
    "from langchain.chains import LLMChain\n",
    "from langchain.llms import Ollama"
   ]
  },
  {
   "cell_type": "markdown",
   "metadata": {},
   "source": [
    "---"
   ]
  },
  {
   "cell_type": "markdown",
   "metadata": {},
   "source": [
    "## Approach 1: Audio to RAG \n",
    "**Retreival Augmented Generation over audio files transcribed with Whisper API**\n",
    "\n",
    "Now that we've transcribed the audio using the Whisper API, we can use the transcript to create a RAG prompt.\n",
    "\n",
    "This section of the notebook leads you step-by-step through the process of:\n",
    "* Tokenizing the text using the LangChain `RecursiveCharacterTextSplitter`\n",
    "* Creating embeddings from the tokenized text using `Ollama Embeddings`\n",
    "* Performing a similary search between query and vectorstore `docsearch.similarity_search`\n",
    "* Creating an LangChain LLMChain which takes in context, query, and returns the answer, considering the context and query together"
   ]
  },
  {
   "cell_type": "markdown",
   "metadata": {},
   "source": [
    "### 1.1: Split, Tokenize & Embed the text \n",
    "Tokenizing and Embeddings are created to split the transcription into smaller chunks and create embeddings for each chunk. This allows us to search for similar chunks in the vectorstore. This is a crucial step in RAG (retreival augmented generation), as it allows us to find the most similar chunks to the query, and then generate text based on the context of the query and the most similar chunks.\n",
    "\n",
    "We use langchain to split the text with the RecursiveCharacterTextSplitter, which splits the text into smaller chunks recursively. We then create embeddings for each chunk using Ollama Embeddings. You can swap these individual components out for whatever text splitter or embeddings you'd prefer."
   ]
  },
  {
   "cell_type": "code",
   "execution_count": 8,
   "metadata": {},
   "outputs": [
    {
     "data": {
      "text/plain": [
       "\" I can conceive of a national destiny which meets the responsibilities of today and measures up to the possibilities of tomorrow. Behold a republic resting securely upon the mountain of eternal truth. A republic applying in practice and proclaiming to the world the self-evident propositions that all men are created equal, that they are endowed with inalienable rights, that governments are instituted among men to secure these rights, and that governments derive their just powers from the consent of the governed. Behold a republic in which civil and religious liberty stimulate all to earnest endeavor, and in which the law restrains every hand uplifted for a neighbor's injury. A republic in which every citizen is a sovereign, but in which no one cares to wear a crown. Behold a republic standing erect while empires all around or bow beneath the weight of their own armaments. A republic whose flag is love while other flags are only fears. Behold a republic increasing in population, in wealth, in strength, and in influence, solving the problems of civilization and facing the coming of a universal brotherhood. A republic which shakes, throes, and dissolves aristocracies by its silent example and gives light and inspiration to those who sit in darkness. Behold a republic gradually but surely becoming a supreme moral factor in the world's progress and the accepted arbiter of the world's dispute. A republic whose history, like the path of the just, is as the shining light that shineth more and more unto the perfect day.\""
      ]
     },
     "execution_count": 8,
     "metadata": {},
     "output_type": "execute_result"
    }
   ],
   "source": [
    "# Define the text to split\n",
    "transcription = result[\"text\"]\n",
    "\n",
    "# Display the text\n",
    "transcription"
   ]
  },
  {
   "cell_type": "markdown",
   "metadata": {},
   "source": [
    "**Split the text**\n",
    "\n",
    "Choosing different chunk sizes will change the number of chunks that are created. This is a hyperparameter that you can play around with to see what works best for your use case."
   ]
  },
  {
   "cell_type": "code",
   "execution_count": 12,
   "metadata": {},
   "outputs": [],
   "source": [
    "splitter = RecursiveCharacterTextSplitter(\n",
    "    chunk_size=500,\n",
    "    chunk_overlap=50,\n",
    ")\n",
    "\n",
    "texts = splitter.split_text(transcription)"
   ]
  },
  {
   "cell_type": "code",
   "execution_count": 13,
   "metadata": {},
   "outputs": [
    {
     "name": "stdout",
     "output_type": "stream",
     "text": [
      "['I can conceive of a national destiny which meets the responsibilities of today and measures up to the possibilities of tomorrow. Behold a republic resting securely upon the mountain of eternal truth. A republic applying in practice and proclaiming to the world the self-evident propositions that all men are created equal, that they are endowed with inalienable rights, that governments are instituted among men to secure these rights, and that governments derive their just powers from the consent', \"derive their just powers from the consent of the governed. Behold a republic in which civil and religious liberty stimulate all to earnest endeavor, and in which the law restrains every hand uplifted for a neighbor's injury. A republic in which every citizen is a sovereign, but in which no one cares to wear a crown. Behold a republic standing erect while empires all around or bow beneath the weight of their own armaments. A republic whose flag is love while other flags are only fears. Behold a\", \"love while other flags are only fears. Behold a republic increasing in population, in wealth, in strength, and in influence, solving the problems of civilization and facing the coming of a universal brotherhood. A republic which shakes, throes, and dissolves aristocracies by its silent example and gives light and inspiration to those who sit in darkness. Behold a republic gradually but surely becoming a supreme moral factor in the world's progress and the accepted arbiter of the world's\", \"progress and the accepted arbiter of the world's dispute. A republic whose history, like the path of the just, is as the shining light that shineth more and more unto the perfect day.\"]\n",
      "\n",
      "The length of the texts is 4\n"
     ]
    }
   ],
   "source": [
    "# Let's take a look at the texts, notice how there is a bit of overlap between them\n",
    "print(texts)\n",
    "\n",
    "# So that we know how many texts we have:\n",
    "print(f\"\\nThe length of the texts is {len(texts)}\")"
   ]
  },
  {
   "cell_type": "markdown",
   "metadata": {},
   "source": [
    "**Create the Embeddings**"
   ]
  },
  {
   "cell_type": "code",
   "execution_count": 14,
   "metadata": {},
   "outputs": [],
   "source": [
    "# define the embeddings \n",
    "\n",
    "embeddings = OllamaEmbeddings()"
   ]
  },
  {
   "cell_type": "markdown",
   "metadata": {},
   "source": [
    "**Add Text to the Vectorstore**\n",
    "\n",
    "Here, I use FAISS as the vectorstore. Faiss is a library for efficient similarity search and clustering of dense vectors. You can also use alternatives like Pinecone, Qdrant, or Chroma."
   ]
  },
  {
   "cell_type": "code",
   "execution_count": 15,
   "metadata": {},
   "outputs": [],
   "source": [
    "# Create the vector store using the texts and embeddings and put it in a vector database\n",
    "\n",
    "docsearch = FAISS.from_texts(texts, embeddings, metadatas=[{\"file\": audio,\"source\": str(i)} for i in range(len(texts))])"
   ]
  },
  {
   "cell_type": "markdown",
   "metadata": {},
   "source": [
    "**Set the LLM Model & Prompt our LLM using Context from the Chroma Vectorstore**"
   ]
  },
  {
   "cell_type": "code",
   "execution_count": 16,
   "metadata": {},
   "outputs": [],
   "source": [
    "# Define the local LLM Model we will use\n",
    "llm = Ollama(model='llama2', temperature=0)"
   ]
  },
  {
   "cell_type": "markdown",
   "metadata": {},
   "source": [
    "**Create the Prompt**\n",
    "\n",
    "We'll use a QA chain (this is a chain for performing question-answering tasks with a retrieval component) - since we'd like to ask questions and get answers and continue asking questions."
   ]
  },
  {
   "cell_type": "code",
   "execution_count": 17,
   "metadata": {},
   "outputs": [],
   "source": [
    "#import chatprompttemplate \n",
    "from langchain.prompts import PromptTemplate\n",
    "from langchain.prompts.chat import (\n",
    "    ChatPromptTemplate,\n",
    "    SystemMessagePromptTemplate,\n",
    "    AIMessagePromptTemplate,\n",
    "    HumanMessagePromptTemplate,\n",
    ")"
   ]
  },
  {
   "cell_type": "code",
   "execution_count": 18,
   "metadata": {},
   "outputs": [],
   "source": [
    "# Create the RAG prompt\n",
    "rag_prompt = ChatPromptTemplate(\n",
    "    input_variables=['context', 'question'], \n",
    "    messages=[\n",
    "        HumanMessagePromptTemplate(\n",
    "            prompt=PromptTemplate(\n",
    "                input_variables=['context', 'question'], \n",
    "                template=\"\"\"You answer questions about the contents of a transcribed audio file. \n",
    "                Use only the provided audio file transcription as context to answer the question. \n",
    "                Do not use any additional information.\n",
    "                If you don't know the answer, just say that you don't know. Do not use external knowledge. \n",
    "                Use three sentences maximum and keep the answer concise. \n",
    "                Make sure to reference your sources with quotes of the provided context as citations.\n",
    "                \\nQuestion: {question} \\nContext: {context} \\nAnswer:\"\"\"\n",
    "                )\n",
    "        )\n",
    "    ]\n",
    ")"
   ]
  },
  {
   "cell_type": "code",
   "execution_count": 19,
   "metadata": {},
   "outputs": [],
   "source": [
    "from langchain.chains.question_answering import load_qa_chain\n",
    "\n",
    "# Chain\n",
    "chain = load_qa_chain(llm, chain_type=\"stuff\", prompt=rag_prompt)"
   ]
  },
  {
   "cell_type": "markdown",
   "metadata": {},
   "source": [
    "### 1.2: Create a \"trad rag\" aka. Traditional Prompt\n",
    "\n",
    "This traditional prompt means we take the query and get the top n most similar chunks from the vectorstore, and then use those chunks as the context for the LLM model. This is the traditional way of doing RAG, and is the most common way of doing RAG."
   ]
  },
  {
   "cell_type": "markdown",
   "metadata": {},
   "source": [
    "**Set a Query**"
   ]
  },
  {
   "cell_type": "code",
   "execution_count": 20,
   "metadata": {},
   "outputs": [],
   "source": [
    "# Define a query\n",
    "query = \"What is the idea of the republic?\""
   ]
  },
  {
   "cell_type": "code",
   "execution_count": 21,
   "metadata": {},
   "outputs": [],
   "source": [
    "# Find similar documents to the search query \n",
    "docs = docsearch.similarity_search(query)"
   ]
  },
  {
   "cell_type": "code",
   "execution_count": 22,
   "metadata": {},
   "outputs": [
    {
     "data": {
      "text/plain": [
       "[Document(page_content=\"progress and the accepted arbiter of the world's dispute. A republic whose history, like the path of the just, is as the shining light that shineth more and more unto the perfect day.\", metadata={'file': 'BryanThe_Ideal_Republic.ogg', 'source': '3'}),\n",
       " Document(page_content='I can conceive of a national destiny which meets the responsibilities of today and measures up to the possibilities of tomorrow. Behold a republic resting securely upon the mountain of eternal truth. A republic applying in practice and proclaiming to the world the self-evident propositions that all men are created equal, that they are endowed with inalienable rights, that governments are instituted among men to secure these rights, and that governments derive their just powers from the consent', metadata={'file': 'BryanThe_Ideal_Republic.ogg', 'source': '0'}),\n",
       " Document(page_content=\"derive their just powers from the consent of the governed. Behold a republic in which civil and religious liberty stimulate all to earnest endeavor, and in which the law restrains every hand uplifted for a neighbor's injury. A republic in which every citizen is a sovereign, but in which no one cares to wear a crown. Behold a republic standing erect while empires all around or bow beneath the weight of their own armaments. A republic whose flag is love while other flags are only fears. Behold a\", metadata={'file': 'BryanThe_Ideal_Republic.ogg', 'source': '1'}),\n",
       " Document(page_content=\"love while other flags are only fears. Behold a republic increasing in population, in wealth, in strength, and in influence, solving the problems of civilization and facing the coming of a universal brotherhood. A republic which shakes, throes, and dissolves aristocracies by its silent example and gives light and inspiration to those who sit in darkness. Behold a republic gradually but surely becoming a supreme moral factor in the world's progress and the accepted arbiter of the world's\", metadata={'file': 'BryanThe_Ideal_Republic.ogg', 'source': '2'})]"
      ]
     },
     "execution_count": 22,
     "metadata": {},
     "output_type": "execute_result"
    }
   ],
   "source": [
    "# Display the docs determined to be semantically similar to the query\n",
    "docs"
   ]
  },
  {
   "cell_type": "markdown",
   "metadata": {},
   "source": [
    "### 1.3: Generate a response using \"Trad RAG\""
   ]
  },
  {
   "cell_type": "code",
   "execution_count": 23,
   "metadata": {},
   "outputs": [
    {
     "name": "stdout",
     "output_type": "stream",
     "text": [
      " Based on the provided audio transcription, the idea of the republic is a nation that rests securely upon the mountain of eternal truth and applies in practice the self-evident propositions that all men are created equal, endowed with inalienable rights, and that governments derive their just powers from the consent of the governed. (Bryan, 0:00-0:15)\n",
      "\n",
      "In this context, a republic is described as a nation where civil and religious liberty stimulate citizens to work hard and strive for excellence, while the law restrains those who would harm their neighbors. The republic is also characterized by the belief that every citizen is a sovereign, but no one desires to wear a crown. (Bryan, 0:15-0:30)\n",
      "\n",
      "Furthermore, the transcription highlights the idea that a republic stands erect while empires crumble under the weight of their own armaments, and its flag is love instead of fear. The republic is also depicted as increasing in population, wealth, strength, and influence, solving civilization's problems and inspiring others. (Bryan, 0:30-1:00)\n",
      "\n",
      "In summary, the idea of the republic according to the provided audio transcription is a nation that is grounded in eternal truth, applies self-evident principles, and is characterized by civil and religious liberty, sovereignty, love, and progress.\n"
     ]
    }
   ],
   "source": [
    "# Basic Stuff Rag prompt (manually created)\n",
    "\n",
    "trad_rag_template = \"\"\"You answer questions about the contents of a transcribed audio file. \n",
    "                Use only the provided audio file transcription as context to answer the question. \n",
    "                Do not use any additional information.\n",
    "                If you don't know the answer, just say that you don't know. Do not use external knowledge. \n",
    "                Use three sentences maximum and keep the answer concise. \n",
    "                Make sure to cite references by referencing quotes of the provided context. Do not use any other knowledge.\n",
    "\n",
    "                \\nQuestion: {question} \\nContext: {context} \\nAnswer:\"\"\"\n",
    "\n",
    "trad_prompt = PromptTemplate.from_template(trad_rag_template)\n",
    "\n",
    "query = \"What is the idea of the republic?\"\n",
    "\n",
    "trad_rag_prompt = trad_prompt.format(context=docs, question=query)\n",
    "\n",
    "trad_answer = llm(trad_rag_prompt)\n",
    "\n",
    "print(trad_answer)"
   ]
  },
  {
   "cell_type": "markdown",
   "metadata": {},
   "source": [
    "### 1.4: Evaluate the Traditional Response"
   ]
  },
  {
   "cell_type": "code",
   "execution_count": 24,
   "metadata": {},
   "outputs": [
    {
     "name": "stdout",
     "output_type": "stream",
     "text": [
      " Based on the provided audio transcription, I would rate the answer as an 8 out of 10. The answer provides a clear and detailed description of the idea of the republic according to the provided context, highlighting key aspects such as eternal truth, self-evident principles, civil and religious liberty, sovereignty, love, and progress. The answer also uses appropriate adjectives and phrasing to convey its ideas effectively.\n",
      "\n",
      "However, to receive a perfect score, the answer could provide more specific examples or quotes from Bryan's speech to support its claims, as well as offer more insight into how these ideas are supposed to be applied in practice. Additionally, the answer could benefit from more detailed explanations of how these aspects of the republic are meant to contribute to its success and influence on the world stage.\n"
     ]
    }
   ],
   "source": [
    "from langchain.prompts import PromptTemplate\n",
    "\n",
    "evaluation_template = \"\"\"\n",
    "    Rate the answer: \" {answer_trad} \" to the question \"{question} \" given only the context provided by an audio file: \"{context}\". \n",
    "    The Rating should be between 1 (lowest score) and 10 (highest score), and contain a max-1 sentence explanation of the rating.\n",
    "    The rating should be based on the quality of the answer considering that the answer was ONLY based on the context, and nothing else.\n",
    "    Format the answer as starting with the rating, followed by a newline, followed by the explanation.\n",
    "    \"x/10 \n",
    "    The question asked about xxx, and the context provided xxxx, and the answer was .... .\n",
    "    In order to receive a full score, the answer should be ....\" \"\"\"\n",
    "\n",
    "prompt = PromptTemplate.from_template(evaluation_template)\n",
    "\n",
    "my_prompt = prompt.format(answer_trad=trad_answer, context=docs, question=query)\n",
    "\n",
    "print(llm(my_prompt))\n"
   ]
  },
  {
   "cell_type": "markdown",
   "metadata": {},
   "source": [
    "---"
   ]
  },
  {
   "cell_type": "markdown",
   "metadata": {},
   "source": [
    "## Alternative Approach: Abandoning 'Trad' RAG\n",
    "\n",
    "#### Skip the Embeddings & Vectorstore and Place Entire Transcription into LLM Completion Request"
   ]
  },
  {
   "cell_type": "markdown",
   "metadata": {},
   "source": [
    "For this test, I will dismiss the standard RAG approach with it's embeddings and vectorstore, and instead place the entire transcription into the LLM Completion Request. This will allow us to see how the LLM performs without the vectorstore and embeddings.\n",
    "\n",
    "Note, this approach will not work for all use cases, as often transcriptions can be very long. However, considering that we have a short one to play with, it should be enough for some initial tests."
   ]
  },
  {
   "cell_type": "markdown",
   "metadata": {},
   "source": [
    "### 2.1: Create a Single Document Document which contains the entire transcription"
   ]
  },
  {
   "cell_type": "code",
   "execution_count": 29,
   "metadata": {},
   "outputs": [],
   "source": [
    "from langchain.docstore.document import Document\n",
    "\n",
    "transcript_doc=Document(\n",
    "                page_content=transcription,\n",
    "                metadata={\"source\": audio}\n",
    "            )\n"
   ]
  },
  {
   "cell_type": "code",
   "execution_count": 30,
   "metadata": {},
   "outputs": [
    {
     "data": {
      "text/plain": [
       "Document(page_content=\" I can conceive of a national destiny which meets the responsibilities of today and measures up to the possibilities of tomorrow. Behold a republic resting securely upon the mountain of eternal truth. A republic applying in practice and proclaiming to the world the self-evident propositions that all men are created equal, that they are endowed with inalienable rights, that governments are instituted among men to secure these rights, and that governments derive their just powers from the consent of the governed. Behold a republic in which civil and religious liberty stimulate all to earnest endeavor, and in which the law restrains every hand uplifted for a neighbor's injury. A republic in which every citizen is a sovereign, but in which no one cares to wear a crown. Behold a republic standing erect while empires all around or bow beneath the weight of their own armaments. A republic whose flag is love while other flags are only fears. Behold a republic increasing in population, in wealth, in strength, and in influence, solving the problems of civilization and facing the coming of a universal brotherhood. A republic which shakes, throes, and dissolves aristocracies by its silent example and gives light and inspiration to those who sit in darkness. Behold a republic gradually but surely becoming a supreme moral factor in the world's progress and the accepted arbiter of the world's dispute. A republic whose history, like the path of the just, is as the shining light that shineth more and more unto the perfect day.\", metadata={'source': 'BryanThe_Ideal_Republic.ogg'})"
      ]
     },
     "execution_count": 30,
     "metadata": {},
     "output_type": "execute_result"
    }
   ],
   "source": [
    "transcript_doc"
   ]
  },
  {
   "cell_type": "markdown",
   "metadata": {},
   "source": [
    "### 2.2: Create a Prompt which contains the entire transcription"
   ]
  },
  {
   "cell_type": "code",
   "execution_count": 31,
   "metadata": {},
   "outputs": [
    {
     "name": "stdout",
     "output_type": "stream",
     "text": [
      " Based on the provided transcription, the idea of the republic is a nation that is grounded in eternal truth and applies self-evident propositions to govern its people. The republic is characterized by civil and religious liberty, which stimulate citizens to work hard and lawfully restrain any harmful actions towards others. Additionally, every citizen is considered a sovereign, but no one desires to wear a crown. The republic is also distinct in that it does not rely on fear or armaments for its strength, but rather on love and moral example-making. Furthermore, the republic's history is like a shining light that continues to illuminate the path towards perfection. (Bryan, 1899)\n"
     ]
    }
   ],
   "source": [
    "# Basic Stuff Rag prompt (manually created)\n",
    "\n",
    "alt_rag_template = \"\"\"You answer questions about the contents of a transcribed audio file. \n",
    "                Use only the provided audio file transcription as context to answer the question. \n",
    "                Do not use any additional information.\n",
    "                If you don't know the answer, just say that you don't know. Do not use external knowledge. \n",
    "                Use three sentences maximum and keep the answer concise. \n",
    "                Make sure to cite references by referencing quotes of the provided context. Do not use any other knowledge.\n",
    "                \n",
    "                \\nQuestion: {question} \\nContext: {context} \\nAnswer:\"\"\"\n",
    "\n",
    "alt_prompt = PromptTemplate.from_template(alt_rag_template)\n",
    "\n",
    "query = \"What is the idea of the republic?\"\n",
    "\n",
    "alt_rag_prompt = alt_prompt.format(context=transcript_doc, question=query)\n",
    "\n",
    "answer_alt = llm(alt_rag_prompt)\n",
    "\n",
    "print(answer_alt)"
   ]
  },
  {
   "cell_type": "markdown",
   "metadata": {},
   "source": [
    "### 2.3: Evaluate the Alternative Response"
   ]
  },
  {
   "cell_type": "code",
   "execution_count": 32,
   "metadata": {},
   "outputs": [
    {
     "name": "stdout",
     "output_type": "stream",
     "text": [
      " Sure! Here is my rating and explanation:\n",
      "\n",
      "7/10\n",
      "The answer provides some general information about the idea of a republic based on the provided context. However, it does not go into depth or provide specific details that could help further illuminate the concept of a republic. Additionally, the answer does not provide any evidence or examples to support its claims, which limits its usefulness as an accurate representation of the idea of a republic. To receive a higher score, the answer should provide more specific and detailed information about the concept of a republic, as well as evidence to support its claims.\n"
     ]
    }
   ],
   "source": [
    "\n",
    "evaluation_template = \"\"\"\n",
    "    Rate the answer: \" {answer_alt} \" to the question \"{question} \" given only the context provided by an audio file: \"{context}\". \n",
    "    The Rating should be between 1 (lowest score) and 10 (highest score), and contain a max-1 sentence explanation of the rating.\n",
    "    The rating should be based on the quality of the answer considering that the answer was ONLY based on the context, and nothing else.\n",
    "    Format the answer as starting with the rating, followed by a newline, followed by the explanation.\n",
    "    \"x/10 \n",
    "    The question asked about xxx, and the context provided xxxx, and the answer was .... .\n",
    "    In order to receive a full score, the answer should be ....\" \"\"\"\n",
    "\n",
    "prompt = PromptTemplate.from_template(evaluation_template)\n",
    "\n",
    "my_prompt = prompt.format(answer_alt=answer_alt, context=transcript_doc, question=query)\n",
    "\n",
    "print(llm(my_prompt))"
   ]
  },
  {
   "cell_type": "markdown",
   "metadata": {},
   "source": [
    "---"
   ]
  },
  {
   "cell_type": "markdown",
   "metadata": {},
   "source": [
    "# Traditional RAG vs. Alternative RAG: Compare the Answers to Each Other"
   ]
  },
  {
   "cell_type": "code",
   "execution_count": 33,
   "metadata": {},
   "outputs": [
    {
     "name": "stdout",
     "output_type": "stream",
     "text": [
      " I think Answer \"Alt\" is better than Answer \"Trad\". The reason for this is that Answer \"Alt\" provides more nuanced and detailed explanations of the republic's character, while Answer \"Trad\" is somewhat vague and broad in its descriptions.\n",
      "\n",
      "In particular, Answer \"Alt\" highlights the importance of civil and religious liberty in the republic, as well as the sovereignty of each citizen. It also emphasizes the distinction between the republic's reliance on love and moral example-making versus fear or armaments for its strength. Additionally, it provides a more detailed historical context for the idea of the republic, noting that its history is like a shining light that continues to illuminate the path towards perfection.\n",
      "\n",
      "In contrast, Answer \"Trad\" is somewhat generic and does not provide as much depth or detail in its descriptions of the republic. While it highlights the importance of eternal truth and self-evident propositions, it does not clarify how these principles are applied in practice or what specific characteristics distinguish the republic from other forms of government. Overall, while both answers provide some useful insights into the idea of the republic, Answer \"Alt\" offers a more comprehensive and nuanced understanding of this concept.\n"
     ]
    }
   ],
   "source": [
    "\n",
    "compare_answers_evaluation_template = \"\"\"\n",
    "    Compare the following two answers: \n",
    "    Answer \"Trad\": \"{answer_trad}\" \n",
    "    Answer \"Alt\": \"{answer_alt}\"\n",
    "    which were provide in response to the question: {question}.\n",
    "    \n",
    "    Start by saying which answer you think is better, and then explain why you think so.\n",
    "    Explain the reasoning of your comparison in a max-1 sentence explanation.\n",
    "    \"\"\"\n",
    "\n",
    "compare_prompt = PromptTemplate.from_template(compare_answers_evaluation_template)\n",
    "\n",
    "my_prompt = compare_prompt.format(answer_trad=trad_answer, answer_alt=answer_alt, question=query)\n",
    "\n",
    "print(llm(my_prompt))"
   ]
  },
  {
   "cell_type": "markdown",
   "metadata": {},
   "source": [
    "## Conclusion"
   ]
  },
  {
   "cell_type": "markdown",
   "metadata": {},
   "source": [
    "My conclusion is that the alternative RAG approach is better than the traditional RAG, as it is able to generate more coherent answers. This is likely because the traditional RAG approach is limited by the vectorstore and embeddings, which are not able to capture the context of the query as well as the alternative approach, which uses the entire transcription as the context."
   ]
  }
 ],
 "metadata": {
  "kernelspec": {
   "display_name": "Python 3",
   "language": "python",
   "name": "python3"
  },
  "language_info": {
   "codemirror_mode": {
    "name": "ipython",
    "version": 3
   },
   "file_extension": ".py",
   "mimetype": "text/x-python",
   "name": "python",
   "nbconvert_exporter": "python",
   "pygments_lexer": "ipython3",
   "version": "3.10.1"
  }
 },
 "nbformat": 4,
 "nbformat_minor": 2
}
