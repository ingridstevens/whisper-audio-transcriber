{
 "cells": [
  {
   "cell_type": "markdown",
   "metadata": {},
   "source": [
    "## Audio to RAG \n",
    "**Retreival Augmented Generation over audio files transcribed with Whisper API**\n",
    "\n",
    "This Jupyter notebook takes you on a step-by-step journey to:\n",
    "* convert audio to text using the `OpenAI Whisper API` (audio to text)\n",
    "* Tokenize the text using the LangChain `RecursiveCharacterTextSplitter`\n",
    "* Create embeddings from the tokenized text using `Ollama Embeddings`\n",
    "* Similary search between query and vectorstore `docsearch.similarity_search`\n",
    "* Create an LangChain LLMChain which takes in context, query, and returns a result (RAG)"
   ]
  },
  {
   "cell_type": "markdown",
   "metadata": {},
   "source": [
    "### Transcribe the Audio"
   ]
  },
  {
   "cell_type": "code",
   "execution_count": 1,
   "metadata": {},
   "outputs": [],
   "source": [
    "# Uses Whisper API from OpenAI to generate audio from text\n",
    "import whisper "
   ]
  },
  {
   "cell_type": "code",
   "execution_count": 2,
   "metadata": {},
   "outputs": [],
   "source": [
    "# Load the base model from whisper\n",
    "model = whisper.load_model(\"base\")"
   ]
  },
  {
   "cell_type": "markdown",
   "metadata": {},
   "source": [
    "**Add your Audio File**"
   ]
  },
  {
   "cell_type": "code",
   "execution_count": null,
   "metadata": {},
   "outputs": [],
   "source": [
    "audio = \"BryanThe_Ideal_Republic.ogg\""
   ]
  },
  {
   "cell_type": "markdown",
   "metadata": {},
   "source": [
    "**Transcribe the audio file**"
   ]
  },
  {
   "cell_type": "code",
   "execution_count": 3,
   "metadata": {},
   "outputs": [
    {
     "name": "stdout",
     "output_type": "stream",
     "text": [
      " I can conceive of a national detonation which meets the responsibilities of the days and measures up to the possibilities of tomorrow. Before they republic resting securely upon the mountain of eternal truth, a republic applying in practice and propaming to the world the self-evident propositions that all men are created equal, that they are endowed with an aid in a right, that governments are instituted among men to secure these rights, and that governments derive their just powers from the consent of the government, behold a republic in which civil and religious liberty stimulate all to earnest endeavor, and in which the law restrains every hand of blipst its foreign neighbors in direct. A republic in which every citizen is a sovereign, but in which no one cares to wear a crown. The whole of the republic standing erects file empires all around or bow beneath the weight of their own armaments. A republic whose flag is loved by other flags are only tears. The whole of the republic, increasing in population in wealth and strength and in influence, solving the problems of civilization and facing the coming of a universal brotherhood. A republic which shakes roads and dissolves their aristocracies by its silent example and gives light and inspiration to those who sit in darkness, behold a republic, gradually but surely becoming a supreme moral factor in the world's progress and the accepted arbiter of the world's dispute. A republic whose history, like the path of the just, is as the shining light, the shining light and more onto the perfect day.\n"
     ]
    }
   ],
   "source": [
    "# Run the transcription and save it to \"result\"\n",
    "# Note: audio file is available here: https://commons.wikimedia.org/wiki/File:A_J_Cook_Speech_from_Lansbury%27s_Labour_Weekly.ogg \n",
    "result = model.transcribe(audio, fp16=False)\n",
    "print(result[\"text\"])"
   ]
  },
  {
   "cell_type": "markdown",
   "metadata": {},
   "source": [
    "### Tokenize & Embed the text \n",
    "Tokenizing and Embeddings are created to split the transcription into smaller chunks and create embeddings for each chunk. This allows us to search for similar chunks in the vectorstore. This is a crucial step in RAG (retreival augmented generation), as it allows us to find the most similar chunks to the query, and then generate text based on the context of the query and the most similar chunks.\n",
    "\n",
    "We use langchain to split the text with the RecursiveCharacterTextSplitter, which splits the text into smaller chunks recursively. We then create embeddings for each chunk using Ollama Embeddings. You can swap these individual components out for whatever text splitter or embeddings you'd prefer."
   ]
  },
  {
   "cell_type": "code",
   "execution_count": 47,
   "metadata": {},
   "outputs": [],
   "source": [
    "from langchain.text_splitter import RecursiveCharacterTextSplitter\n",
    "from langchain.vectorstores import FAISS\n",
    "from langchain.embeddings import OllamaEmbeddings\n",
    "from langchain.chains.qa_with_sources import load_qa_with_sources_chain\n",
    "from langchain.chains import LLMChain\n",
    "from langchain.llms import Ollama"
   ]
  },
  {
   "cell_type": "code",
   "execution_count": 26,
   "metadata": {},
   "outputs": [],
   "source": [
    "# Define the text to split\n",
    "transcription = result[\"text\"]"
   ]
  },
  {
   "cell_type": "code",
   "execution_count": 28,
   "metadata": {},
   "outputs": [
    {
     "data": {
      "text/plain": [
       "\" I can conceive of a national detonation which meets the responsibilities of the days and measures up to the possibilities of tomorrow. Before they republic resting securely upon the mountain of eternal truth, a republic applying in practice and propaming to the world the self-evident propositions that all men are created equal, that they are endowed with an aid in a right, that governments are instituted among men to secure these rights, and that governments derive their just powers from the consent of the government, behold a republic in which civil and religious liberty stimulate all to earnest endeavor, and in which the law restrains every hand of blipst its foreign neighbors in direct. A republic in which every citizen is a sovereign, but in which no one cares to wear a crown. The whole of the republic standing erects file empires all around or bow beneath the weight of their own armaments. A republic whose flag is loved by other flags are only tears. The whole of the republic, increasing in population in wealth and strength and in influence, solving the problems of civilization and facing the coming of a universal brotherhood. A republic which shakes roads and dissolves their aristocracies by its silent example and gives light and inspiration to those who sit in darkness, behold a republic, gradually but surely becoming a supreme moral factor in the world's progress and the accepted arbiter of the world's dispute. A republic whose history, like the path of the just, is as the shining light, the shining light and more onto the perfect day.\""
      ]
     },
     "execution_count": 28,
     "metadata": {},
     "output_type": "execute_result"
    }
   ],
   "source": [
    "transcription"
   ]
  },
  {
   "cell_type": "code",
   "execution_count": 29,
   "metadata": {},
   "outputs": [],
   "source": [
    "splitter = RecursiveCharacterTextSplitter(\n",
    "    chunk_size=100,\n",
    "    chunk_overlap=20,\n",
    ")\n",
    "\n",
    "texts = splitter.split_text(transcription)"
   ]
  },
  {
   "cell_type": "code",
   "execution_count": 30,
   "metadata": {},
   "outputs": [
    {
     "data": {
      "text/plain": [
       "['I can conceive of a national detonation which meets the responsibilities of the days and measures',\n",
       " 'days and measures up to the possibilities of tomorrow. Before they republic resting securely upon',\n",
       " 'securely upon the mountain of eternal truth, a republic applying in practice and propaming to the',\n",
       " 'propaming to the world the self-evident propositions that all men are created equal, that they are',\n",
       " 'that they are endowed with an aid in a right, that governments are instituted among men to secure',\n",
       " 'among men to secure these rights, and that governments derive their just powers from the consent of',\n",
       " 'from the consent of the government, behold a republic in which civil and religious liberty',\n",
       " 'religious liberty stimulate all to earnest endeavor, and in which the law restrains every hand of',\n",
       " 'every hand of blipst its foreign neighbors in direct. A republic in which every citizen is a',\n",
       " 'every citizen is a sovereign, but in which no one cares to wear a crown. The whole of the republic',\n",
       " 'of the republic standing erects file empires all around or bow beneath the weight of their own',\n",
       " 'weight of their own armaments. A republic whose flag is loved by other flags are only tears. The',\n",
       " 'are only tears. The whole of the republic, increasing in population in wealth and strength and in',\n",
       " 'and strength and in influence, solving the problems of civilization and facing the coming of a',\n",
       " 'the coming of a universal brotherhood. A republic which shakes roads and dissolves their',\n",
       " 'and dissolves their aristocracies by its silent example and gives light and inspiration to those',\n",
       " 'to those who sit in darkness, behold a republic, gradually but surely becoming a supreme moral',\n",
       " \"a supreme moral factor in the world's progress and the accepted arbiter of the world's dispute. A\",\n",
       " \"world's dispute. A republic whose history, like the path of the just, is as the shining light, the\",\n",
       " 'shining light, the shining light and more onto the perfect day.']"
      ]
     },
     "execution_count": 30,
     "metadata": {},
     "output_type": "execute_result"
    }
   ],
   "source": [
    "# Print the texts to get an initial look\n",
    "texts"
   ]
  },
  {
   "cell_type": "code",
   "execution_count": 31,
   "metadata": {},
   "outputs": [
    {
     "data": {
      "text/plain": [
       "20"
      ]
     },
     "execution_count": 31,
     "metadata": {},
     "output_type": "execute_result"
    }
   ],
   "source": [
    "len(texts)"
   ]
  },
  {
   "cell_type": "markdown",
   "metadata": {},
   "source": [
    "**Embeddings**"
   ]
  },
  {
   "cell_type": "code",
   "execution_count": 32,
   "metadata": {},
   "outputs": [],
   "source": [
    "# define the embeddings \n",
    "\n",
    "embeddings = OllamaEmbeddings()"
   ]
  },
  {
   "cell_type": "markdown",
   "metadata": {},
   "source": [
    "**Add our text to a Vectorstore**\n",
    "\n",
    "Here, I use FAISS as the vectorstore. Faiss is a library for efficient similarity search and clustering of dense vectors. You can also use alternatives like Pinecone, Qdrant, or Chroma."
   ]
  },
  {
   "cell_type": "code",
   "execution_count": 48,
   "metadata": {},
   "outputs": [],
   "source": [
    "# Create the vector store using the texts and embeddings and put it in a Chroma db\n",
    "\n",
    "docsearch = FAISS.from_texts(texts, embeddings, metadatas=[{\"source\": str(i)} for i in range(len(texts))])"
   ]
  },
  {
   "cell_type": "markdown",
   "metadata": {},
   "source": [
    "**Set the LLM Model & Prompt our LLM using Context from the Chroma Vectorstore**"
   ]
  },
  {
   "cell_type": "code",
   "execution_count": 68,
   "metadata": {},
   "outputs": [],
   "source": [
    "# Define the local LLM Model we will use\n",
    "llm = Ollama(model='llama2')"
   ]
  },
  {
   "cell_type": "markdown",
   "metadata": {},
   "source": [
    "**Create the Prompt**\n",
    "\n",
    "We'll use a qa chain - since we'd like to ask questions and get answers and continue asking questions."
   ]
  },
  {
   "cell_type": "code",
   "execution_count": 69,
   "metadata": {},
   "outputs": [],
   "source": [
    "# Prompt \n",
    "from langchain import hub\n",
    "rag_prompt = hub.pull(\"rlm/rag-prompt\")\n",
    "from langchain.chains.question_answering import load_qa_chain\n"
   ]
  },
  {
   "cell_type": "code",
   "execution_count": 70,
   "metadata": {},
   "outputs": [],
   "source": [
    "# Chain\n",
    "chain = load_qa_chain(llm, chain_type=\"stuff\", prompt=rag_prompt)"
   ]
  },
  {
   "cell_type": "markdown",
   "metadata": {},
   "source": [
    "**Set a Query**"
   ]
  },
  {
   "cell_type": "code",
   "execution_count": 81,
   "metadata": {},
   "outputs": [],
   "source": [
    "# Define a query\n",
    "query = \"What are the self-evident propositions in this speech?\""
   ]
  },
  {
   "cell_type": "code",
   "execution_count": 82,
   "metadata": {},
   "outputs": [],
   "source": [
    "# Find similar documents to the search query \n",
    "docs = docsearch.similarity_search(query)"
   ]
  },
  {
   "cell_type": "code",
   "execution_count": 83,
   "metadata": {},
   "outputs": [
    {
     "data": {
      "text/plain": [
       "[Document(page_content='among men to secure these rights, and that governments derive their just powers from the consent of', metadata={'source': '5'}),\n",
       " Document(page_content='weight of their own armaments. A republic whose flag is loved by other flags are only tears. The', metadata={'source': '11'}),\n",
       " Document(page_content='propaming to the world the self-evident propositions that all men are created equal, that they are', metadata={'source': '3'}),\n",
       " Document(page_content='the coming of a universal brotherhood. A republic which shakes roads and dissolves their', metadata={'source': '14'})]"
      ]
     },
     "execution_count": 83,
     "metadata": {},
     "output_type": "execute_result"
    }
   ],
   "source": [
    "# Display the docs determined to be semantically similar to the query\n",
    "docs"
   ]
  },
  {
   "cell_type": "markdown",
   "metadata": {},
   "source": [
    "**Generate a Response Using a Chain Completion Request**"
   ]
  },
  {
   "cell_type": "code",
   "execution_count": 84,
   "metadata": {},
   "outputs": [],
   "source": [
    "# Set a response variable to the output of the chain\n",
    "response = chain({\"input_documents\": docs, \"question\": query}, return_only_outputs=True)"
   ]
  },
  {
   "cell_type": "markdown",
   "metadata": {},
   "source": [
    "**Display the response**"
   ]
  },
  {
   "cell_type": "code",
   "execution_count": 85,
   "metadata": {},
   "outputs": [
    {
     "name": "stdout",
     "output_type": "stream",
     "text": [
      " Based on the provided context, the self-evident propositions in the speech are:\n",
      "\n",
      "1. All men are created equal.\n",
      "2. Governments derive their just powers from the consent of the governed.\n",
      "3. The republic is a symbol of the universal brotherhood of mankind.\n"
     ]
    }
   ],
   "source": [
    "print(response[\"output_text\"])"
   ]
  }
 ],
 "metadata": {
  "kernelspec": {
   "display_name": "Python 3",
   "language": "python",
   "name": "python3"
  },
  "language_info": {
   "codemirror_mode": {
    "name": "ipython",
    "version": 3
   },
   "file_extension": ".py",
   "mimetype": "text/x-python",
   "name": "python",
   "nbconvert_exporter": "python",
   "pygments_lexer": "ipython3",
   "version": "3.10.1"
  }
 },
 "nbformat": 4,
 "nbformat_minor": 2
}
